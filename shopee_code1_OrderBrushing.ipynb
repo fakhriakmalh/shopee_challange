{
  "nbformat": 4,
  "nbformat_minor": 0,
  "metadata": {
    "colab": {
      "name": "SixthFloor_OrderBrushing.ipynb",
      "provenance": [],
      "collapsed_sections": []
    },
    "kernelspec": {
      "name": "python3",
      "display_name": "Python 3"
    }
  },
  "cells": [
    {
      "cell_type": "code",
      "metadata": {
        "id": "vsFK9YQqWTxw",
        "colab_type": "code",
        "colab": {}
      },
      "source": [
        "#import csv file\n",
        "import pandas as pd\n",
        "order_brushing_df = pd.read_csv(\"/order_brush_order.csv\")"
      ],
      "execution_count": 1,
      "outputs": []
    },
    {
      "cell_type": "code",
      "metadata": {
        "id": "QCJBAzhXWhno",
        "colab_type": "code",
        "colab": {
          "base_uri": "https://localhost:8080/",
          "height": 195
        },
        "outputId": "e27c8963-cc91-430a-91de-b836330c75f4"
      },
      "source": [
        "order_brushing_df.head()"
      ],
      "execution_count": 2,
      "outputs": [
        {
          "output_type": "execute_result",
          "data": {
            "text/html": [
              "<div>\n",
              "<style scoped>\n",
              "    .dataframe tbody tr th:only-of-type {\n",
              "        vertical-align: middle;\n",
              "    }\n",
              "\n",
              "    .dataframe tbody tr th {\n",
              "        vertical-align: top;\n",
              "    }\n",
              "\n",
              "    .dataframe thead th {\n",
              "        text-align: right;\n",
              "    }\n",
              "</style>\n",
              "<table border=\"1\" class=\"dataframe\">\n",
              "  <thead>\n",
              "    <tr style=\"text-align: right;\">\n",
              "      <th></th>\n",
              "      <th>orderid</th>\n",
              "      <th>shopid</th>\n",
              "      <th>userid</th>\n",
              "      <th>event_time</th>\n",
              "    </tr>\n",
              "  </thead>\n",
              "  <tbody>\n",
              "    <tr>\n",
              "      <th>0</th>\n",
              "      <td>31076582227611</td>\n",
              "      <td>93950878</td>\n",
              "      <td>30530270</td>\n",
              "      <td>2019-12-27 00:23:03</td>\n",
              "    </tr>\n",
              "    <tr>\n",
              "      <th>1</th>\n",
              "      <td>31118059853484</td>\n",
              "      <td>156423439</td>\n",
              "      <td>46057927</td>\n",
              "      <td>2019-12-27 11:54:20</td>\n",
              "    </tr>\n",
              "    <tr>\n",
              "      <th>2</th>\n",
              "      <td>31123355095755</td>\n",
              "      <td>173699291</td>\n",
              "      <td>67341739</td>\n",
              "      <td>2019-12-27 13:22:35</td>\n",
              "    </tr>\n",
              "    <tr>\n",
              "      <th>3</th>\n",
              "      <td>31122059872723</td>\n",
              "      <td>63674025</td>\n",
              "      <td>149380322</td>\n",
              "      <td>2019-12-27 13:01:00</td>\n",
              "    </tr>\n",
              "    <tr>\n",
              "      <th>4</th>\n",
              "      <td>31117075665123</td>\n",
              "      <td>127249066</td>\n",
              "      <td>149493217</td>\n",
              "      <td>2019-12-27 11:37:55</td>\n",
              "    </tr>\n",
              "  </tbody>\n",
              "</table>\n",
              "</div>"
            ],
            "text/plain": [
              "          orderid     shopid     userid           event_time\n",
              "0  31076582227611   93950878   30530270  2019-12-27 00:23:03\n",
              "1  31118059853484  156423439   46057927  2019-12-27 11:54:20\n",
              "2  31123355095755  173699291   67341739  2019-12-27 13:22:35\n",
              "3  31122059872723   63674025  149380322  2019-12-27 13:01:00\n",
              "4  31117075665123  127249066  149493217  2019-12-27 11:37:55"
            ]
          },
          "metadata": {
            "tags": []
          },
          "execution_count": 2
        }
      ]
    },
    {
      "cell_type": "code",
      "metadata": {
        "id": "M7h4x8SxZoXv",
        "colab_type": "code",
        "colab": {
          "base_uri": "https://localhost:8080/",
          "height": 34
        },
        "outputId": "65b39c33-a777-4536-94e8-6f883af46bcc"
      },
      "source": [
        "#knowing unique shopid\n",
        "print(len(order_brushing_df['shopid'].unique()))"
      ],
      "execution_count": 3,
      "outputs": [
        {
          "output_type": "stream",
          "text": [
            "18770\n"
          ],
          "name": "stdout"
        }
      ]
    },
    {
      "cell_type": "code",
      "metadata": {
        "id": "tEYX5F4XYQ6D",
        "colab_type": "code",
        "colab": {}
      },
      "source": [
        "order_groupby_shop = order_brushing_df.groupby('shopid') "
      ],
      "execution_count": 4,
      "outputs": []
    },
    {
      "cell_type": "code",
      "metadata": {
        "id": "VcjmTSDJZ2mb",
        "colab_type": "code",
        "colab": {}
      },
      "source": [
        "#changing the event_time data type into datetime\n",
        "from datetime import datetime\n",
        "order_brushing_df['event_time'] = order_brushing_df['event_time'].apply(lambda x:datetime.strptime(x, \"%Y-%m-%d %H:%M:%S\"))"
      ],
      "execution_count": 5,
      "outputs": []
    },
    {
      "cell_type": "code",
      "metadata": {
        "id": "9VMQgbDpfmE7",
        "colab_type": "code",
        "colab": {
          "base_uri": "https://localhost:8080/",
          "height": 195
        },
        "outputId": "ab9d467c-3858-48ab-b796-a5dd11af695e"
      },
      "source": [
        "order_brushing_df.head()"
      ],
      "execution_count": 6,
      "outputs": [
        {
          "output_type": "execute_result",
          "data": {
            "text/html": [
              "<div>\n",
              "<style scoped>\n",
              "    .dataframe tbody tr th:only-of-type {\n",
              "        vertical-align: middle;\n",
              "    }\n",
              "\n",
              "    .dataframe tbody tr th {\n",
              "        vertical-align: top;\n",
              "    }\n",
              "\n",
              "    .dataframe thead th {\n",
              "        text-align: right;\n",
              "    }\n",
              "</style>\n",
              "<table border=\"1\" class=\"dataframe\">\n",
              "  <thead>\n",
              "    <tr style=\"text-align: right;\">\n",
              "      <th></th>\n",
              "      <th>orderid</th>\n",
              "      <th>shopid</th>\n",
              "      <th>userid</th>\n",
              "      <th>event_time</th>\n",
              "    </tr>\n",
              "  </thead>\n",
              "  <tbody>\n",
              "    <tr>\n",
              "      <th>0</th>\n",
              "      <td>31076582227611</td>\n",
              "      <td>93950878</td>\n",
              "      <td>30530270</td>\n",
              "      <td>2019-12-27 00:23:03</td>\n",
              "    </tr>\n",
              "    <tr>\n",
              "      <th>1</th>\n",
              "      <td>31118059853484</td>\n",
              "      <td>156423439</td>\n",
              "      <td>46057927</td>\n",
              "      <td>2019-12-27 11:54:20</td>\n",
              "    </tr>\n",
              "    <tr>\n",
              "      <th>2</th>\n",
              "      <td>31123355095755</td>\n",
              "      <td>173699291</td>\n",
              "      <td>67341739</td>\n",
              "      <td>2019-12-27 13:22:35</td>\n",
              "    </tr>\n",
              "    <tr>\n",
              "      <th>3</th>\n",
              "      <td>31122059872723</td>\n",
              "      <td>63674025</td>\n",
              "      <td>149380322</td>\n",
              "      <td>2019-12-27 13:01:00</td>\n",
              "    </tr>\n",
              "    <tr>\n",
              "      <th>4</th>\n",
              "      <td>31117075665123</td>\n",
              "      <td>127249066</td>\n",
              "      <td>149493217</td>\n",
              "      <td>2019-12-27 11:37:55</td>\n",
              "    </tr>\n",
              "  </tbody>\n",
              "</table>\n",
              "</div>"
            ],
            "text/plain": [
              "          orderid     shopid     userid          event_time\n",
              "0  31076582227611   93950878   30530270 2019-12-27 00:23:03\n",
              "1  31118059853484  156423439   46057927 2019-12-27 11:54:20\n",
              "2  31123355095755  173699291   67341739 2019-12-27 13:22:35\n",
              "3  31122059872723   63674025  149380322 2019-12-27 13:01:00\n",
              "4  31117075665123  127249066  149493217 2019-12-27 11:37:55"
            ]
          },
          "metadata": {
            "tags": []
          },
          "execution_count": 6
        }
      ]
    },
    {
      "cell_type": "code",
      "metadata": {
        "id": "Ncm-WO6tkfVv",
        "colab_type": "code",
        "colab": {}
      },
      "source": [
        "# #filtering more than 1 time order\n",
        "# df1 = order_brushing_df.groupby('shopid').filter(lambda x: len(x) > 1)\n",
        "\n",
        "# #filter shopid based on orderid\n",
        "# df1 = df1[~df1['shopid'].isin(shop_order_statistic['shopid'])]\n",
        "df1 = order_brushing_df"
      ],
      "execution_count": 7,
      "outputs": []
    },
    {
      "cell_type": "code",
      "metadata": {
        "id": "tN4tmDdotOO8",
        "colab_type": "code",
        "colab": {
          "base_uri": "https://localhost:8080/",
          "height": 195
        },
        "outputId": "83c5657f-2434-4150-9acb-0e821dd765a2"
      },
      "source": [
        "df1.head()"
      ],
      "execution_count": 8,
      "outputs": [
        {
          "output_type": "execute_result",
          "data": {
            "text/html": [
              "<div>\n",
              "<style scoped>\n",
              "    .dataframe tbody tr th:only-of-type {\n",
              "        vertical-align: middle;\n",
              "    }\n",
              "\n",
              "    .dataframe tbody tr th {\n",
              "        vertical-align: top;\n",
              "    }\n",
              "\n",
              "    .dataframe thead th {\n",
              "        text-align: right;\n",
              "    }\n",
              "</style>\n",
              "<table border=\"1\" class=\"dataframe\">\n",
              "  <thead>\n",
              "    <tr style=\"text-align: right;\">\n",
              "      <th></th>\n",
              "      <th>orderid</th>\n",
              "      <th>shopid</th>\n",
              "      <th>userid</th>\n",
              "      <th>event_time</th>\n",
              "    </tr>\n",
              "  </thead>\n",
              "  <tbody>\n",
              "    <tr>\n",
              "      <th>0</th>\n",
              "      <td>31076582227611</td>\n",
              "      <td>93950878</td>\n",
              "      <td>30530270</td>\n",
              "      <td>2019-12-27 00:23:03</td>\n",
              "    </tr>\n",
              "    <tr>\n",
              "      <th>1</th>\n",
              "      <td>31118059853484</td>\n",
              "      <td>156423439</td>\n",
              "      <td>46057927</td>\n",
              "      <td>2019-12-27 11:54:20</td>\n",
              "    </tr>\n",
              "    <tr>\n",
              "      <th>2</th>\n",
              "      <td>31123355095755</td>\n",
              "      <td>173699291</td>\n",
              "      <td>67341739</td>\n",
              "      <td>2019-12-27 13:22:35</td>\n",
              "    </tr>\n",
              "    <tr>\n",
              "      <th>3</th>\n",
              "      <td>31122059872723</td>\n",
              "      <td>63674025</td>\n",
              "      <td>149380322</td>\n",
              "      <td>2019-12-27 13:01:00</td>\n",
              "    </tr>\n",
              "    <tr>\n",
              "      <th>4</th>\n",
              "      <td>31117075665123</td>\n",
              "      <td>127249066</td>\n",
              "      <td>149493217</td>\n",
              "      <td>2019-12-27 11:37:55</td>\n",
              "    </tr>\n",
              "  </tbody>\n",
              "</table>\n",
              "</div>"
            ],
            "text/plain": [
              "          orderid     shopid     userid          event_time\n",
              "0  31076582227611   93950878   30530270 2019-12-27 00:23:03\n",
              "1  31118059853484  156423439   46057927 2019-12-27 11:54:20\n",
              "2  31123355095755  173699291   67341739 2019-12-27 13:22:35\n",
              "3  31122059872723   63674025  149380322 2019-12-27 13:01:00\n",
              "4  31117075665123  127249066  149493217 2019-12-27 11:37:55"
            ]
          },
          "metadata": {
            "tags": []
          },
          "execution_count": 8
        }
      ]
    },
    {
      "cell_type": "code",
      "metadata": {
        "id": "WPEfsWEHn-mB",
        "colab_type": "code",
        "colab": {}
      },
      "source": [
        "#group by event time and shop id, and counting the amount of trasaction (based on order / user)\n",
        "df1_shopid = df1.groupby([pd.Grouper(key='event_time',freq='H'),df1.shopid]).size().reset_index(name='count_order')\n",
        "df1_userid = df1.groupby([pd.Grouper(key='event_time',freq='H'),df1.userid]).size().reset_index(name='count_user')"
      ],
      "execution_count": 9,
      "outputs": []
    },
    {
      "cell_type": "code",
      "metadata": {
        "id": "71VmEgXDvXLK",
        "colab_type": "code",
        "colab": {}
      },
      "source": [
        "#group by event_time and shopid, then ccount user that do the transaction in that time\n",
        "df2 = df1.groupby([pd.Grouper(key='event_time',freq='H'),df1.shopid,df1.userid]).size().reset_index(name='count')"
      ],
      "execution_count": 10,
      "outputs": []
    },
    {
      "cell_type": "code",
      "metadata": {
        "id": "EI2KDVXg-eAh",
        "colab_type": "code",
        "colab": {}
      },
      "source": [
        "df2_countuser=df2.groupby(['event_time','shopid'])['userid'].nunique().reset_index(name='count_user')"
      ],
      "execution_count": 11,
      "outputs": []
    },
    {
      "cell_type": "code",
      "metadata": {
        "id": "fGKhlKnyNaSy",
        "colab_type": "code",
        "colab": {
          "base_uri": "https://localhost:8080/",
          "height": 402
        },
        "outputId": "29d3cf6e-79a5-41ae-c31e-8058c6212f63"
      },
      "source": [
        "#group by event_time and shop id, so can get the count_order and count_user that do the transaction\n",
        "df_join = pd.merge(df1_shopid,df2_countuser,on=['event_time','shopid'],how='left')\n",
        "df_join"
      ],
      "execution_count": 12,
      "outputs": [
        {
          "output_type": "execute_result",
          "data": {
            "text/html": [
              "<div>\n",
              "<style scoped>\n",
              "    .dataframe tbody tr th:only-of-type {\n",
              "        vertical-align: middle;\n",
              "    }\n",
              "\n",
              "    .dataframe tbody tr th {\n",
              "        vertical-align: top;\n",
              "    }\n",
              "\n",
              "    .dataframe thead th {\n",
              "        text-align: right;\n",
              "    }\n",
              "</style>\n",
              "<table border=\"1\" class=\"dataframe\">\n",
              "  <thead>\n",
              "    <tr style=\"text-align: right;\">\n",
              "      <th></th>\n",
              "      <th>event_time</th>\n",
              "      <th>shopid</th>\n",
              "      <th>count_order</th>\n",
              "      <th>count_user</th>\n",
              "    </tr>\n",
              "  </thead>\n",
              "  <tbody>\n",
              "    <tr>\n",
              "      <th>0</th>\n",
              "      <td>2019-12-27 00:00:00</td>\n",
              "      <td>10084</td>\n",
              "      <td>2</td>\n",
              "      <td>2</td>\n",
              "    </tr>\n",
              "    <tr>\n",
              "      <th>1</th>\n",
              "      <td>2019-12-27 00:00:00</td>\n",
              "      <td>10151</td>\n",
              "      <td>2</td>\n",
              "      <td>2</td>\n",
              "    </tr>\n",
              "    <tr>\n",
              "      <th>2</th>\n",
              "      <td>2019-12-27 00:00:00</td>\n",
              "      <td>10159</td>\n",
              "      <td>1</td>\n",
              "      <td>1</td>\n",
              "    </tr>\n",
              "    <tr>\n",
              "      <th>3</th>\n",
              "      <td>2019-12-27 00:00:00</td>\n",
              "      <td>10208</td>\n",
              "      <td>2</td>\n",
              "      <td>2</td>\n",
              "    </tr>\n",
              "    <tr>\n",
              "      <th>4</th>\n",
              "      <td>2019-12-27 00:00:00</td>\n",
              "      <td>10287</td>\n",
              "      <td>3</td>\n",
              "      <td>3</td>\n",
              "    </tr>\n",
              "    <tr>\n",
              "      <th>...</th>\n",
              "      <td>...</td>\n",
              "      <td>...</td>\n",
              "      <td>...</td>\n",
              "      <td>...</td>\n",
              "    </tr>\n",
              "    <tr>\n",
              "      <th>146762</th>\n",
              "      <td>2019-12-31 23:00:00</td>\n",
              "      <td>212058195</td>\n",
              "      <td>1</td>\n",
              "      <td>1</td>\n",
              "    </tr>\n",
              "    <tr>\n",
              "      <th>146763</th>\n",
              "      <td>2019-12-31 23:00:00</td>\n",
              "      <td>213137628</td>\n",
              "      <td>1</td>\n",
              "      <td>1</td>\n",
              "    </tr>\n",
              "    <tr>\n",
              "      <th>146764</th>\n",
              "      <td>2019-12-31 23:00:00</td>\n",
              "      <td>213236358</td>\n",
              "      <td>1</td>\n",
              "      <td>1</td>\n",
              "    </tr>\n",
              "    <tr>\n",
              "      <th>146765</th>\n",
              "      <td>2019-12-31 23:00:00</td>\n",
              "      <td>213507904</td>\n",
              "      <td>1</td>\n",
              "      <td>1</td>\n",
              "    </tr>\n",
              "    <tr>\n",
              "      <th>146766</th>\n",
              "      <td>2019-12-31 23:00:00</td>\n",
              "      <td>214432425</td>\n",
              "      <td>3</td>\n",
              "      <td>2</td>\n",
              "    </tr>\n",
              "  </tbody>\n",
              "</table>\n",
              "<p>146767 rows × 4 columns</p>\n",
              "</div>"
            ],
            "text/plain": [
              "                event_time     shopid  count_order  count_user\n",
              "0      2019-12-27 00:00:00      10084            2           2\n",
              "1      2019-12-27 00:00:00      10151            2           2\n",
              "2      2019-12-27 00:00:00      10159            1           1\n",
              "3      2019-12-27 00:00:00      10208            2           2\n",
              "4      2019-12-27 00:00:00      10287            3           3\n",
              "...                    ...        ...          ...         ...\n",
              "146762 2019-12-31 23:00:00  212058195            1           1\n",
              "146763 2019-12-31 23:00:00  213137628            1           1\n",
              "146764 2019-12-31 23:00:00  213236358            1           1\n",
              "146765 2019-12-31 23:00:00  213507904            1           1\n",
              "146766 2019-12-31 23:00:00  214432425            3           2\n",
              "\n",
              "[146767 rows x 4 columns]"
            ]
          },
          "metadata": {
            "tags": []
          },
          "execution_count": 12
        }
      ]
    },
    {
      "cell_type": "code",
      "metadata": {
        "id": "NSD0sgtr7oI3",
        "colab_type": "code",
        "colab": {
          "base_uri": "https://localhost:8080/",
          "height": 402
        },
        "outputId": "dc635ea8-b827-4c89-8a63-765488ff92df"
      },
      "source": [
        "#getting value of concentrate_rate\n",
        "df_join['concentrate_rate'] = df_join['count_order'] / df_join['count_user']\n",
        "df_join"
      ],
      "execution_count": 13,
      "outputs": [
        {
          "output_type": "execute_result",
          "data": {
            "text/html": [
              "<div>\n",
              "<style scoped>\n",
              "    .dataframe tbody tr th:only-of-type {\n",
              "        vertical-align: middle;\n",
              "    }\n",
              "\n",
              "    .dataframe tbody tr th {\n",
              "        vertical-align: top;\n",
              "    }\n",
              "\n",
              "    .dataframe thead th {\n",
              "        text-align: right;\n",
              "    }\n",
              "</style>\n",
              "<table border=\"1\" class=\"dataframe\">\n",
              "  <thead>\n",
              "    <tr style=\"text-align: right;\">\n",
              "      <th></th>\n",
              "      <th>event_time</th>\n",
              "      <th>shopid</th>\n",
              "      <th>count_order</th>\n",
              "      <th>count_user</th>\n",
              "      <th>concentrate_rate</th>\n",
              "    </tr>\n",
              "  </thead>\n",
              "  <tbody>\n",
              "    <tr>\n",
              "      <th>0</th>\n",
              "      <td>2019-12-27 00:00:00</td>\n",
              "      <td>10084</td>\n",
              "      <td>2</td>\n",
              "      <td>2</td>\n",
              "      <td>1.0</td>\n",
              "    </tr>\n",
              "    <tr>\n",
              "      <th>1</th>\n",
              "      <td>2019-12-27 00:00:00</td>\n",
              "      <td>10151</td>\n",
              "      <td>2</td>\n",
              "      <td>2</td>\n",
              "      <td>1.0</td>\n",
              "    </tr>\n",
              "    <tr>\n",
              "      <th>2</th>\n",
              "      <td>2019-12-27 00:00:00</td>\n",
              "      <td>10159</td>\n",
              "      <td>1</td>\n",
              "      <td>1</td>\n",
              "      <td>1.0</td>\n",
              "    </tr>\n",
              "    <tr>\n",
              "      <th>3</th>\n",
              "      <td>2019-12-27 00:00:00</td>\n",
              "      <td>10208</td>\n",
              "      <td>2</td>\n",
              "      <td>2</td>\n",
              "      <td>1.0</td>\n",
              "    </tr>\n",
              "    <tr>\n",
              "      <th>4</th>\n",
              "      <td>2019-12-27 00:00:00</td>\n",
              "      <td>10287</td>\n",
              "      <td>3</td>\n",
              "      <td>3</td>\n",
              "      <td>1.0</td>\n",
              "    </tr>\n",
              "    <tr>\n",
              "      <th>...</th>\n",
              "      <td>...</td>\n",
              "      <td>...</td>\n",
              "      <td>...</td>\n",
              "      <td>...</td>\n",
              "      <td>...</td>\n",
              "    </tr>\n",
              "    <tr>\n",
              "      <th>146762</th>\n",
              "      <td>2019-12-31 23:00:00</td>\n",
              "      <td>212058195</td>\n",
              "      <td>1</td>\n",
              "      <td>1</td>\n",
              "      <td>1.0</td>\n",
              "    </tr>\n",
              "    <tr>\n",
              "      <th>146763</th>\n",
              "      <td>2019-12-31 23:00:00</td>\n",
              "      <td>213137628</td>\n",
              "      <td>1</td>\n",
              "      <td>1</td>\n",
              "      <td>1.0</td>\n",
              "    </tr>\n",
              "    <tr>\n",
              "      <th>146764</th>\n",
              "      <td>2019-12-31 23:00:00</td>\n",
              "      <td>213236358</td>\n",
              "      <td>1</td>\n",
              "      <td>1</td>\n",
              "      <td>1.0</td>\n",
              "    </tr>\n",
              "    <tr>\n",
              "      <th>146765</th>\n",
              "      <td>2019-12-31 23:00:00</td>\n",
              "      <td>213507904</td>\n",
              "      <td>1</td>\n",
              "      <td>1</td>\n",
              "      <td>1.0</td>\n",
              "    </tr>\n",
              "    <tr>\n",
              "      <th>146766</th>\n",
              "      <td>2019-12-31 23:00:00</td>\n",
              "      <td>214432425</td>\n",
              "      <td>3</td>\n",
              "      <td>2</td>\n",
              "      <td>1.5</td>\n",
              "    </tr>\n",
              "  </tbody>\n",
              "</table>\n",
              "<p>146767 rows × 5 columns</p>\n",
              "</div>"
            ],
            "text/plain": [
              "                event_time     shopid  ...  count_user  concentrate_rate\n",
              "0      2019-12-27 00:00:00      10084  ...           2               1.0\n",
              "1      2019-12-27 00:00:00      10151  ...           2               1.0\n",
              "2      2019-12-27 00:00:00      10159  ...           1               1.0\n",
              "3      2019-12-27 00:00:00      10208  ...           2               1.0\n",
              "4      2019-12-27 00:00:00      10287  ...           3               1.0\n",
              "...                    ...        ...  ...         ...               ...\n",
              "146762 2019-12-31 23:00:00  212058195  ...           1               1.0\n",
              "146763 2019-12-31 23:00:00  213137628  ...           1               1.0\n",
              "146764 2019-12-31 23:00:00  213236358  ...           1               1.0\n",
              "146765 2019-12-31 23:00:00  213507904  ...           1               1.0\n",
              "146766 2019-12-31 23:00:00  214432425  ...           2               1.5\n",
              "\n",
              "[146767 rows x 5 columns]"
            ]
          },
          "metadata": {
            "tags": []
          },
          "execution_count": 13
        }
      ]
    },
    {
      "cell_type": "code",
      "metadata": {
        "id": "eLMmuXHyHxtH",
        "colab_type": "code",
        "colab": {}
      },
      "source": [
        "# df_final = pd.merge(df_join,df2,on=['event_time','shopid'],how='left')"
      ],
      "execution_count": 14,
      "outputs": []
    },
    {
      "cell_type": "code",
      "metadata": {
        "id": "XDLj_SwJ784-",
        "colab_type": "code",
        "colab": {}
      },
      "source": [
        "#filter to get the potential of order brushing\n",
        "df_brush_more_three = df_join[df_join['concentrate_rate'] >= 3]"
      ],
      "execution_count": 15,
      "outputs": []
    },
    {
      "cell_type": "code",
      "metadata": {
        "id": "jBD2MEGDwyGu",
        "colab_type": "code",
        "colab": {}
      },
      "source": [
        "df_final = pd.merge(df_brush_more_three,df2,on=['event_time','shopid'],how='left')"
      ],
      "execution_count": 16,
      "outputs": []
    },
    {
      "cell_type": "code",
      "metadata": {
        "id": "4oshuo9VAV4P",
        "colab_type": "code",
        "colab": {}
      },
      "source": [
        "df_final = df_final[['shopid','userid']]\n",
        "df_final = df_final.sort_values(by='shopid', ascending=False).reset_index()[['shopid', 'userid']]\n",
        "#df_final = df_final.unique()\n",
        "df_final['userid']= df_final['userid'].astype(str)"
      ],
      "execution_count": 17,
      "outputs": []
    },
    {
      "cell_type": "code",
      "metadata": {
        "id": "L3LkztYKO95J",
        "colab_type": "code",
        "colab": {
          "base_uri": "https://localhost:8080/",
          "height": 402
        },
        "outputId": "7834c6b7-3b82-4e0f-a3fc-d9c30315cbc9"
      },
      "source": [
        "df_final"
      ],
      "execution_count": 18,
      "outputs": [
        {
          "output_type": "execute_result",
          "data": {
            "text/html": [
              "<div>\n",
              "<style scoped>\n",
              "    .dataframe tbody tr th:only-of-type {\n",
              "        vertical-align: middle;\n",
              "    }\n",
              "\n",
              "    .dataframe tbody tr th {\n",
              "        vertical-align: top;\n",
              "    }\n",
              "\n",
              "    .dataframe thead th {\n",
              "        text-align: right;\n",
              "    }\n",
              "</style>\n",
              "<table border=\"1\" class=\"dataframe\">\n",
              "  <thead>\n",
              "    <tr style=\"text-align: right;\">\n",
              "      <th></th>\n",
              "      <th>shopid</th>\n",
              "      <th>userid</th>\n",
              "    </tr>\n",
              "  </thead>\n",
              "  <tbody>\n",
              "    <tr>\n",
              "      <th>0</th>\n",
              "      <td>213141071</td>\n",
              "      <td>213646699</td>\n",
              "    </tr>\n",
              "    <tr>\n",
              "      <th>1</th>\n",
              "      <td>210197928</td>\n",
              "      <td>52867898</td>\n",
              "    </tr>\n",
              "    <tr>\n",
              "      <th>2</th>\n",
              "      <td>208696908</td>\n",
              "      <td>214111334</td>\n",
              "    </tr>\n",
              "    <tr>\n",
              "      <th>3</th>\n",
              "      <td>204225676</td>\n",
              "      <td>198662175</td>\n",
              "    </tr>\n",
              "    <tr>\n",
              "      <th>4</th>\n",
              "      <td>203531250</td>\n",
              "      <td>114282846</td>\n",
              "    </tr>\n",
              "    <tr>\n",
              "      <th>...</th>\n",
              "      <td>...</td>\n",
              "      <td>...</td>\n",
              "    </tr>\n",
              "    <tr>\n",
              "      <th>208</th>\n",
              "      <td>42818</td>\n",
              "      <td>170385453</td>\n",
              "    </tr>\n",
              "    <tr>\n",
              "      <th>209</th>\n",
              "      <td>42472</td>\n",
              "      <td>740844</td>\n",
              "    </tr>\n",
              "    <tr>\n",
              "      <th>210</th>\n",
              "      <td>10536</td>\n",
              "      <td>672345</td>\n",
              "    </tr>\n",
              "    <tr>\n",
              "      <th>211</th>\n",
              "      <td>10536</td>\n",
              "      <td>672345</td>\n",
              "    </tr>\n",
              "    <tr>\n",
              "      <th>212</th>\n",
              "      <td>10402</td>\n",
              "      <td>77819</td>\n",
              "    </tr>\n",
              "  </tbody>\n",
              "</table>\n",
              "<p>213 rows × 2 columns</p>\n",
              "</div>"
            ],
            "text/plain": [
              "        shopid     userid\n",
              "0    213141071  213646699\n",
              "1    210197928   52867898\n",
              "2    208696908  214111334\n",
              "3    204225676  198662175\n",
              "4    203531250  114282846\n",
              "..         ...        ...\n",
              "208      42818  170385453\n",
              "209      42472     740844\n",
              "210      10536     672345\n",
              "211      10536     672345\n",
              "212      10402      77819\n",
              "\n",
              "[213 rows x 2 columns]"
            ]
          },
          "metadata": {
            "tags": []
          },
          "execution_count": 18
        }
      ]
    },
    {
      "cell_type": "code",
      "metadata": {
        "id": "X1ColDxOJMhN",
        "colab_type": "code",
        "colab": {}
      },
      "source": [
        "#configure the dataframe based on the requirement of the competition\n",
        "df_final_fix = df_final.groupby(['shopid'])['userid'].apply(lambda x: '&'.join(x.unique())).reset_index()"
      ],
      "execution_count": 19,
      "outputs": []
    },
    {
      "cell_type": "code",
      "metadata": {
        "id": "OZbbA7FPRC-U",
        "colab_type": "code",
        "colab": {
          "base_uri": "https://localhost:8080/",
          "height": 254
        },
        "outputId": "f29ca3e0-79b3-4194-d495-035c23d70603"
      },
      "source": [
        "df_final_fix[df_final_fix['userid'].str.contains(\"&\")]"
      ],
      "execution_count": 20,
      "outputs": [
        {
          "output_type": "execute_result",
          "data": {
            "text/html": [
              "<div>\n",
              "<style scoped>\n",
              "    .dataframe tbody tr th:only-of-type {\n",
              "        vertical-align: middle;\n",
              "    }\n",
              "\n",
              "    .dataframe tbody tr th {\n",
              "        vertical-align: top;\n",
              "    }\n",
              "\n",
              "    .dataframe thead th {\n",
              "        text-align: right;\n",
              "    }\n",
              "</style>\n",
              "<table border=\"1\" class=\"dataframe\">\n",
              "  <thead>\n",
              "    <tr style=\"text-align: right;\">\n",
              "      <th></th>\n",
              "      <th>shopid</th>\n",
              "      <th>userid</th>\n",
              "    </tr>\n",
              "  </thead>\n",
              "  <tbody>\n",
              "    <tr>\n",
              "      <th>18</th>\n",
              "      <td>8996761</td>\n",
              "      <td>162508227&amp;13135622&amp;2136861&amp;215382704</td>\n",
              "    </tr>\n",
              "    <tr>\n",
              "      <th>29</th>\n",
              "      <td>16001939</td>\n",
              "      <td>205729485&amp;1024838</td>\n",
              "    </tr>\n",
              "    <tr>\n",
              "      <th>68</th>\n",
              "      <td>64394533</td>\n",
              "      <td>194833170&amp;92111793</td>\n",
              "    </tr>\n",
              "    <tr>\n",
              "      <th>98</th>\n",
              "      <td>98481320</td>\n",
              "      <td>124597967&amp;96474917</td>\n",
              "    </tr>\n",
              "    <tr>\n",
              "      <th>131</th>\n",
              "      <td>136564914</td>\n",
              "      <td>178491887&amp;191211430</td>\n",
              "    </tr>\n",
              "    <tr>\n",
              "      <th>138</th>\n",
              "      <td>145777302</td>\n",
              "      <td>201343856&amp;107406&amp;101582282</td>\n",
              "    </tr>\n",
              "    <tr>\n",
              "      <th>169</th>\n",
              "      <td>181009364</td>\n",
              "      <td>101832161&amp;214208720</td>\n",
              "    </tr>\n",
              "  </tbody>\n",
              "</table>\n",
              "</div>"
            ],
            "text/plain": [
              "        shopid                                userid\n",
              "18     8996761  162508227&13135622&2136861&215382704\n",
              "29    16001939                     205729485&1024838\n",
              "68    64394533                    194833170&92111793\n",
              "98    98481320                    124597967&96474917\n",
              "131  136564914                   178491887&191211430\n",
              "138  145777302            201343856&107406&101582282\n",
              "169  181009364                   101832161&214208720"
            ]
          },
          "metadata": {
            "tags": []
          },
          "execution_count": 20
        }
      ]
    },
    {
      "cell_type": "code",
      "metadata": {
        "id": "qU1w4VrITkCa",
        "colab_type": "code",
        "colab": {}
      },
      "source": [
        "df_brush_less_three = df_join[(df_join['concentrate_rate'] < 3)]\n",
        "df_brush_less_three = df_brush_less_three[~df_brush_less_three.shopid.isin(df_final_fix.shopid)]            "
      ],
      "execution_count": 21,
      "outputs": []
    },
    {
      "cell_type": "code",
      "metadata": {
        "id": "atYPPtm-XDbP",
        "colab_type": "code",
        "colab": {}
      },
      "source": [
        "#filter only id with concentrate rate less than 3 \n",
        "shopidless = df_brush_less_three['shopid'].unique()\n",
        "zero = [str(0) for i in range(len(shopidless))]\n",
        "df_con_less_three = pd.DataFrame(list(zip(shopidless, zero)), columns =['shopid', 'userid']) "
      ],
      "execution_count": 22,
      "outputs": []
    },
    {
      "cell_type": "code",
      "metadata": {
        "id": "Hdwrmo25ZOrN",
        "colab_type": "code",
        "colab": {}
      },
      "source": [
        "df_final_done = pd.concat([df_final_fix,df_con_less_three])"
      ],
      "execution_count": 23,
      "outputs": []
    },
    {
      "cell_type": "code",
      "metadata": {
        "id": "ct8CfD5Ya3j3",
        "colab_type": "code",
        "colab": {
          "base_uri": "https://localhost:8080/",
          "height": 34
        },
        "outputId": "594bfe54-6e1e-4fd0-9014-733ebeb48199"
      },
      "source": [
        "len(df_final_fix) + len(df_con_less_three) == len(order_brushing_df['shopid'].unique())"
      ],
      "execution_count": 24,
      "outputs": [
        {
          "output_type": "execute_result",
          "data": {
            "text/plain": [
              "True"
            ]
          },
          "metadata": {
            "tags": []
          },
          "execution_count": 24
        }
      ]
    },
    {
      "cell_type": "code",
      "metadata": {
        "id": "IbXCnOlE1T1N",
        "colab_type": "code",
        "colab": {}
      },
      "source": [
        "df_final_done = df_final_done[df_final_done['userid'].str.contains(\"&\")].reset_index()\n",
        "df_final_done = df_final_done[['shopid','userid']]"
      ],
      "execution_count": 25,
      "outputs": []
    },
    {
      "cell_type": "code",
      "metadata": {
        "id": "rW7SdJZihOqi",
        "colab_type": "code",
        "colab": {
          "base_uri": "https://localhost:8080/",
          "height": 254
        },
        "outputId": "466919e9-e1eb-4add-e1d5-1ec987078e0d"
      },
      "source": [
        "df_final_done"
      ],
      "execution_count": 26,
      "outputs": [
        {
          "output_type": "execute_result",
          "data": {
            "text/html": [
              "<div>\n",
              "<style scoped>\n",
              "    .dataframe tbody tr th:only-of-type {\n",
              "        vertical-align: middle;\n",
              "    }\n",
              "\n",
              "    .dataframe tbody tr th {\n",
              "        vertical-align: top;\n",
              "    }\n",
              "\n",
              "    .dataframe thead th {\n",
              "        text-align: right;\n",
              "    }\n",
              "</style>\n",
              "<table border=\"1\" class=\"dataframe\">\n",
              "  <thead>\n",
              "    <tr style=\"text-align: right;\">\n",
              "      <th></th>\n",
              "      <th>shopid</th>\n",
              "      <th>userid</th>\n",
              "    </tr>\n",
              "  </thead>\n",
              "  <tbody>\n",
              "    <tr>\n",
              "      <th>0</th>\n",
              "      <td>8996761</td>\n",
              "      <td>162508227&amp;13135622&amp;2136861&amp;215382704</td>\n",
              "    </tr>\n",
              "    <tr>\n",
              "      <th>1</th>\n",
              "      <td>16001939</td>\n",
              "      <td>205729485&amp;1024838</td>\n",
              "    </tr>\n",
              "    <tr>\n",
              "      <th>2</th>\n",
              "      <td>64394533</td>\n",
              "      <td>194833170&amp;92111793</td>\n",
              "    </tr>\n",
              "    <tr>\n",
              "      <th>3</th>\n",
              "      <td>98481320</td>\n",
              "      <td>124597967&amp;96474917</td>\n",
              "    </tr>\n",
              "    <tr>\n",
              "      <th>4</th>\n",
              "      <td>136564914</td>\n",
              "      <td>178491887&amp;191211430</td>\n",
              "    </tr>\n",
              "    <tr>\n",
              "      <th>5</th>\n",
              "      <td>145777302</td>\n",
              "      <td>201343856&amp;107406&amp;101582282</td>\n",
              "    </tr>\n",
              "    <tr>\n",
              "      <th>6</th>\n",
              "      <td>181009364</td>\n",
              "      <td>101832161&amp;214208720</td>\n",
              "    </tr>\n",
              "  </tbody>\n",
              "</table>\n",
              "</div>"
            ],
            "text/plain": [
              "      shopid                                userid\n",
              "0    8996761  162508227&13135622&2136861&215382704\n",
              "1   16001939                     205729485&1024838\n",
              "2   64394533                    194833170&92111793\n",
              "3   98481320                    124597967&96474917\n",
              "4  136564914                   178491887&191211430\n",
              "5  145777302            201343856&107406&101582282\n",
              "6  181009364                   101832161&214208720"
            ]
          },
          "metadata": {
            "tags": []
          },
          "execution_count": 26
        }
      ]
    },
    {
      "cell_type": "code",
      "metadata": {
        "id": "PBuKSyyQcBo6",
        "colab_type": "code",
        "colab": {}
      },
      "source": [
        "df_final_done.to_csv(r'/order_brushing_sixthfloor.csv')"
      ],
      "execution_count": 27,
      "outputs": []
    }
  ]
}